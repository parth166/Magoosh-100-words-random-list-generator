{
 "cells": [
  {
   "cell_type": "code",
   "execution_count": 65,
   "metadata": {},
   "outputs": [],
   "source": [
    "import PyPDF2\n",
    "import random\n",
    "import pandas as pd\n",
    "\n",
    "from docx import *"
   ]
  },
  {
   "cell_type": "code",
   "execution_count": 4,
   "metadata": {},
   "outputs": [],
   "source": [
    "pdfFile = open('/Users/parthvashisht/Desktop/GRE', 'rb')\n",
    "readPdf = PyPDF2.PdfFileReader(pdfFile)"
   ]
  },
  {
   "cell_type": "code",
   "execution_count": 9,
   "metadata": {},
   "outputs": [
    {
     "name": "stdout",
     "output_type": "stream",
     "text": [
      "95\n"
     ]
    }
   ],
   "source": [
    "totalPages = readPdf.getNumPages()\n",
    "print(totalPages)"
   ]
  },
  {
   "cell_type": "code",
   "execution_count": 24,
   "metadata": {},
   "outputs": [],
   "source": [
    "page = readPdf.getPage(1)\n",
    "pageContent = page.extractText()"
   ]
  },
  {
   "cell_type": "code",
   "execution_count": 67,
   "metadata": {},
   "outputs": [
    {
     "name": "stdout",
     "output_type": "stream",
     "text": [
      "['scintillating ', 'malingerer ', 'aplomb ', 'badger ', 'duplicity ', 'equivocate ', 'brazen ', 'futile ', 'exalt ', 'perquisite ', 'animosity ', 'hedge ', 'zeitgeist ', 'estimable ', 'palimpsest ', 'renege ', 'moribund ', 'disparate ', 'obtain ', 'construe ', 'supercilious ', 'morose ', 'desiccated ', 'guffaw ', 'empathetic ', 'travesty ', 'engender ', 'desideratum ', 'unassailable ', 'erratic ', 'espouse ', 'ersatz ', 'banish ', 'stringent ', 'amply ', 'cosseted ', 'ambivalent ', 'deign ', 'epiphany ', 'spurious ', 'conflate ', 'turpitude ', 'cow ', 'semblance ', 'unprecedented ', 'underwrite ', 'ameliorate ', 'splenetic ', 'apathy ', 'debase ']\n"
     ]
    }
   ],
   "source": [
    "document = Document('/Users/parthvashisht/Desktop/test/magooshWords.docx')\n",
    "\n",
    "bolds=[]\n",
    "italics=[]\n",
    "\n",
    "for para in document.paragraphs:\n",
    "    for run in para.runs:\n",
    "        if run.italic :\n",
    "            italics.append(run.text)\n",
    "        if run.bold :\n",
    "            bolds.append(run.text)\n",
    "\n",
    "del bolds[0]\n",
    "normalisedList = set(bolds)\n",
    "\n",
    "sampleSet = random.sample(normalisedList, 50)\n",
    "\n",
    "print(sampleSet)"
   ]
  },
  {
   "cell_type": "code",
   "execution_count": 69,
   "metadata": {},
   "outputs": [
    {
     "name": "stdout",
     "output_type": "stream",
     "text": [
      "                 0\n",
      "0   scintillating \n",
      "1      malingerer \n",
      "2          aplomb \n",
      "3          badger \n",
      "4       duplicity \n",
      "5      equivocate \n",
      "6          brazen \n",
      "7          futile \n",
      "8           exalt \n",
      "9      perquisite \n",
      "10      animosity \n",
      "11          hedge \n",
      "12      zeitgeist \n",
      "13      estimable \n",
      "14     palimpsest \n",
      "15         renege \n",
      "16       moribund \n",
      "17      disparate \n",
      "18         obtain \n",
      "19       construe \n",
      "20   supercilious \n",
      "21         morose \n",
      "22     desiccated \n",
      "23         guffaw \n",
      "24     empathetic \n",
      "25       travesty \n",
      "26       engender \n",
      "27    desideratum \n",
      "28   unassailable \n",
      "29        erratic \n",
      "30        espouse \n",
      "31         ersatz \n",
      "32         banish \n",
      "33      stringent \n",
      "34          amply \n",
      "35       cosseted \n",
      "36     ambivalent \n",
      "37          deign \n",
      "38       epiphany \n",
      "39       spurious \n",
      "40       conflate \n",
      "41      turpitude \n",
      "42            cow \n",
      "43      semblance \n",
      "44  unprecedented \n",
      "45     underwrite \n",
      "46     ameliorate \n",
      "47      splenetic \n",
      "48         apathy \n",
      "49         debase \n"
     ]
    }
   ],
   "source": [
    "df = pd.DataFrame(sampleSet)\n",
    "\n",
    "print(df)"
   ]
  }
 ],
 "metadata": {
  "kernelspec": {
   "display_name": "Python 3",
   "language": "python",
   "name": "python3"
  },
  "language_info": {
   "codemirror_mode": {
    "name": "ipython",
    "version": 3
   },
   "file_extension": ".py",
   "mimetype": "text/x-python",
   "name": "python",
   "nbconvert_exporter": "python",
   "pygments_lexer": "ipython3",
   "version": "3.7.6"
  }
 },
 "nbformat": 4,
 "nbformat_minor": 4
}
